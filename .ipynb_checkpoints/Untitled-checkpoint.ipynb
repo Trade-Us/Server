{
 "cells": [
  {
   "cell_type": "code",
   "execution_count": null,
   "metadata": {},
   "outputs": [],
   "source": [
    "#범석\n",
    "# 범석이가 짜야 할 코드\n",
    "import numpy as np\n",
    "import matplotlib.pyplot as plt\n",
    "import tensorflow as tf\n",
    "\n",
    "import random\n",
    "from collections import deque\n",
    "\n",
    "import gym\n",
    "%matplotlib inline\n",
    "env = gym.make('CartPole-v1')\n",
    "n_input = env.observation_space.shape[0] # 4\n",
    "n_actions = env.action_space.n # 2\n",
    "n_output = n_actions\n",
    "\n",
    "n_hidden1 = 100\n",
    "n_hidden2 = 50"
   ]
  },
  {
   "cell_type": "code",
   "execution_count": 1,
   "metadata": {},
   "outputs": [],
   "source": [
    "# 다혜\n",
    "\n",
    "# 다혜가 짜야 할 코드"
   ]
  },
  {
   "cell_type": "code",
   "execution_count": 2,
   "metadata": {},
   "outputs": [],
   "source": [
    "# 상일\n",
    "Qpred = Qnet(x, weightsasdfasdfasdf"
   ]
  },
  {
   "cell_type": "code",
   "execution_count": null,
   "metadata": {},
   "outputs": [],
   "source": [
    "# 원빈\n",
    "replay_buffer = []\n",
    "n_buffer = 5000\n",
    "n_batch = 10\n",
    "\n",
    "gamma = 0.9\n",
    "\n",
    "for episode in range(2001):\n",
    "        \n",
    "    done = False\n",
    "    state = env.reset()\n",
    "    \n",
    "    count = 0\n",
    "    \n",
    "    while not done:                        \n",
    "        \n",
    "        count += 1        \n",
    "        Q = sess.run(Qpred, feed_dict = {x: np.reshape(state, [1, n_input])}) \n",
    "        \n",
    "        # Exploration vs. Exploitation for action \n",
    "        epsilon = 0.1\n",
    "        if np.random.uniform() < epsilon:\n",
    "            action = env.action_space.sample()\n",
    "        else:                          \n",
    "            action = np.argmax(Q)\n",
    "        \n",
    "        next_state, reward, done, _ = env.step(action) \n",
    "        \n",
    "        if done:        \n",
    "            reward = -200\n",
    "            #next_state = np.zeros(state.shape)\n",
    "      \n",
    "        replay_buffer.append([state, action, reward, next_state, done])\n",
    "        \n",
    "        if len(replay_buffer) > n_buffer:            \n",
    "            replay_buffer.pop(0)\n",
    "        \n",
    "        state = next_state                        \n",
    "        \n",
    "    if episode % n_batch == 1:\n",
    "        \n",
    "        for _ in range(50):\n",
    "         \n",
    "            if len(replay_buffer) < n_batch:    \n",
    "                break\n",
    "                \n",
    "            minibatch = random.sample(replay_buffer, n_batch)\n",
    "\n",
    "            x_stack = np.empty(0).reshape(0, n_input)\n",
    "            y_stack = np.empty(0).reshape(0, n_output)\n",
    "\n",
    "            for state, action, reward, next_state, done in minibatch:                \n",
    "\n",
    "                Q = sess.run(Qpred, feed_dict = {x: np.reshape(state, [1, n_input])}) \n",
    "\n",
    "                if done:\n",
    "                    Q[0][action] = reward                        \n",
    "                else:                    \n",
    "                    next_Q = sess.run(Qpred, feed_dict = {x: np.reshape(next_state, [1, n_input])})               \n",
    "                    Q[0][action] = reward + gamma*np.max(next_Q)\n",
    "\n",
    "                x_stack = np.vstack([x_stack, state])\n",
    "                y_stack = np.vstack([y_stack, Q])\n",
    "\n",
    "            sess.run(optm, feed_dict = {x: x_stack, y: y_stack})                \n",
    "\n",
    "    if episode % 200 == 1:\n",
    "        print(\"Episode: {} steps: {}\".format(episode, count))\n",
    "        \n",
    "env.close()   "
   ]
  },
  {
   "cell_type": "code",
   "execution_count": null,
   "metadata": {},
   "outputs": [],
   "source": [
    "state = env.reset()\n",
    "\n",
    "done = False\n",
    "\n",
    "while not done:\n",
    "    env.render()\n",
    "    \n",
    "    state = np.reshape(state, [1, n_input])\n",
    "    Q = sess.run(Qpred, feed_dict = {x: state})  \n",
    "    action = np.argmax(Q)\n",
    "    \n",
    "    next_state, reward, done, _ = env.step(action)\n",
    "    state = next_state\n",
    "        \n",
    "env.close()"
   ]
  },
  {
   "cell_type": "code",
   "execution_count": null,
   "metadata": {},
   "outputs": [],
   "source": [
    "sess.close()"
   ]
  }
 ],
 "metadata": {
  "kernelspec": {
   "display_name": "Python 3",
   "language": "python",
   "name": "python3"
  },
  "language_info": {
   "codemirror_mode": {
    "name": "ipython",
    "version": 3
   },
   "file_extension": ".py",
   "mimetype": "text/x-python",
   "name": "python",
   "nbconvert_exporter": "python",
   "pygments_lexer": "ipython3",
<<<<<<< HEAD
   "version": "3.6.10"
=======
   "version": "3.7.7"
>>>>>>> 9a4ee37f64d56d771fcba0c390030da715f9685f
  }
 },
 "nbformat": 4,
 "nbformat_minor": 4
}
