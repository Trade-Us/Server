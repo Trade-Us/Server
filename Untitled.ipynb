{
 "cells": [
  {
   "cell_type": "code",
   "execution_count": null,
   "metadata": {},
   "outputs": [],
   "source": [
    "#범석\n",
    "# 범석이가 짜야 할 코드\n",
    "import numpy as np\n",
    "import matplotlib.pyplot as plt\n",
    "import tensorflow as tf\n",
    "\n",
    "import random\n",
    "from collections import deque\n",
    "\n",
    "import gym\n",
    "%matplotlib inline\n",
    "env = gym.make('CartPole-v1')\n",
    "n_input = env.observation_space.shape[0] # 4\n",
    "n_actions = env.action_space.n # 2\n",
    "n_output = n_actions\n",
    "\n",
    "n_hidden1 = 100\n",
    "n_hidden2 = 50"
   ]
  },
  {
   "cell_type": "code",
   "execution_count": 1,
   "metadata": {},
   "outputs": [],
   "source": [
    "# 다혜\n",
    "\n",
    "x = tf.placeholder(tf.float32, [None, n_input])\n",
    "y = tf.placeholder(tf.float32, [None, n_output])\n",
    "weights = {\n",
    "    'hidden1' : tf.Variable(tf.random_normal([n_input, n_hidden1], stddev = 0.01)),\n",
    "    'hidden2' : tf.Variable(tf.random_normal([n_hidden1, n_hidden2], stddev = 0.01)),\n",
    "    'output' : tf.Variable(tf.random_normal([n_hidden2, n_output], stddev = 0.01))\n",
    "}\n",
    "\n",
    "biases = {\n",
    "    'hidden1' : tf.Variable(tf.random_normal([n_hidden1], stddev = 0.01)),\n",
    "    'hidden2' : tf.Variable(tf.random_normal([n_hidden2], stddev = 0.01)),\n",
    "    'output' : tf.Variable(tf.random_normal([n_output], stddev = 0.01))\n",
    "}\n",
    "def DQN(x, weights, biases):\n",
    "    hidden1 = tf.add(tf.matmul(x, weights['hidden1']), biases['hidden1'])\n",
    "    hidden1 = tf.nn.relu(hidden1)\n",
    "    \n",
    "    hidden2 = tf.add(tf.matmul(hidden1, weights['hidden2']), biases['hidden2'])\n",
    "    hidden2 = tf.nn.relu(hidden2)\n",
    "    \n",
    "    output = tf.add(tf.matmul(hidden2, weights['output']), biases['output'])\n",
    "    return output\n",
    "\n",
    "# 다혜가 짜야 할 코드"
   ]
  },
  {
   "cell_type": "code",
   "execution_count": 2,
   "metadata": {},
   "outputs": [],
   "source": [
    "# 상일"
   ]
  },
  {
   "cell_type": "code",
   "execution_count": null,
   "metadata": {},
   "outputs": [],
   "source": [
    "# 원빈\n"
   ]
  }
 ],
 "metadata": {
  "kernelspec": {
   "display_name": "Python 3",
   "language": "python",
   "name": "python3"
  },
  "language_info": {
   "codemirror_mode": {
    "name": "ipython",
    "version": 3
   },
   "file_extension": ".py",
   "mimetype": "text/x-python",
   "name": "python",
   "nbconvert_exporter": "python",
   "pygments_lexer": "ipython3",
   "version": "3.7.7"
  }
 },
 "nbformat": 4,
 "nbformat_minor": 4
}
